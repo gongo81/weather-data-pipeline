import requests
import json

# Setting the url parameters
BASE_URL = "https://api.open-meteo.com/v1/forecast"
DAILY_VARS = "temperature_2m_max,temperature_2m_min,temperature_2m_mean,precipitation_probability_mean,weathercode"

# Define the wanted cities
german_capitals = [
    {"name": "Stuttgart", "lat": 48.78, "lon": 9.18},
    {"name": "Munich", "lat": 48.13, "lon": 11.58},
    {"name": "Berlin", "lat": 52.52, "lon": 13.41},
    {"name": "Potsdam", "lat": 52.39, "lon": 13.06},
    {"name": "Bremen", "lat": 53.08, "lon": 8.80},
    {"name": "Hamburg", "lat": 53.55, "lon": 10.00},
    {"name": "Wiesbaden", "lat": 50.08, "lon": 8.24},
    {"name": "Schwerin", "lat": 53.63, "lon": 11.41},
    {"name": "Hanover", "lat": 52.37, "lon": 9.73},
    {"name": "Düsseldorf", "lat": 51.23, "lon": 6.78},
    {"name": "Mainz", "lat": 49.99, "lon": 8.27},
    {"name": "Saarbrücken", "lat": 49.23, "lon": 6.99},
    {"name": "Dresden", "lat": 51.05, "lon": 13.74},
    {"name": "Magdeburg", "lat": 52.13, "lon": 11.63},
    {"name": "Kiel", "lat": 54.32, "lon": 10.13},
    {"name": "Erfurt", "lat": 50.98, "lon": 11.03}
]

weather_germany = []

# Extract weather data for each german capital
for city in german_capitals:
    lat = city["lat"]
    lon = city["lon"]
    name = city["name"]

    url = (
        f"{BASE_URL}?latitude={lat}&longitude={lon}"
        f"&current_weather=true"
        f"&daily={DAILY_VARS}"
        f"&start_date={start_date}&end_date={end_date}"
        f"&timezone=auto"
    )

    response = requests.get(url)
    if response.status_code != 200:
        print(f"Failed to fetch data for {name}: {response.status_code}")
        continue

    data = response.json()
    data["city"] = name  
    weather_germany.append(data)

# Write Bronze Layer result to lakehouse (as JSON-File)
file_path = f"/lakehouse/default/Files/Bronze_Layer_{start_date}.json"

with open(file_path, "w") as f:
    json.dump(weather_germany, f, indent=4)

print(f"Data successfully saved to {file_path}")
